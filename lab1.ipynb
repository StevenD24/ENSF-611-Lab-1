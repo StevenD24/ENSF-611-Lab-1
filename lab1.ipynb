{
  "cells": [
    {
      "cell_type": "markdown",
      "metadata": {
        "id": "TEte-npThkXN"
      },
      "source": [
        "# Lab1 - Scikit-learn\n",
        "Author: *Steven Duong (30022492)*\n",
        "\n",
        "## 1. Introduction\n",
        "\n",
        "The goal of this lab is to become familiar with the scikit-learn library.\n",
        "\n",
        "You will practice loading example datasets, perform classification and regression with linear scikit-learn models, and investigate the effects of reducing the number of features (columns in X) and the number of samples (rows in X and y).\n"
      ]
    },
    {
      "cell_type": "code",
      "execution_count": 22,
      "metadata": {
        "id": "t3AIihxRhkXR"
      },
      "outputs": [],
      "source": [
        "import numpy as np\n",
        "import pandas as pd\n",
        "import matplotlib.pyplot as plt\n",
        "import seaborn as sns"
      ]
    },
    {
      "cell_type": "markdown",
      "metadata": {
        "id": "6ONaKpnChkXS"
      },
      "source": [
        "## 2. Classification\n",
        "\n",
        "Using yellowbrick spam - classification  \n",
        "https://www.scikit-yb.org/en/latest/api/datasets/spam.html\n",
        "\n",
        "The goal is to investigate `LogisticRegression(max_iter=2000)` and effects of reducing the number of features and number of samples on classification performance."
      ]
    },
    {
      "cell_type": "markdown",
      "metadata": {
        "id": "AfzTh4MUhkXS"
      },
      "source": [
        "### 2.1 Implement convenience function"
      ]
    },
    {
      "cell_type": "code",
      "execution_count": 23,
      "metadata": {
        "id": "EC4DX0SlhkXT"
      },
      "outputs": [],
      "source": [
        "from sklearn.metrics import accuracy_score\n",
        "from sklearn.model_selection import train_test_split\n",
        "\n",
        "def get_classifier_accuracy(model, X, y):\n",
        "    '''Calculate train and validation accuracy of classifier (model)\n",
        "        \n",
        "        Splits feature matrix X and target vector y \n",
        "        with sklearn train_test_split() and random_state=956.\n",
        "        \n",
        "        model (sklearn classifier): Classifier to train and evaluate\n",
        "        X (numpy.array or pandas.DataFrame): Feature matrix\n",
        "        y (numpy.array or pandas.Series): Target vector\n",
        "        \n",
        "        returns: training accuracy, validation accuracy\n",
        "    '''\n",
        "    \n",
        "    # Creating train, test and split for the NumPy arrays\n",
        "    # X is the feature matrix, while y is the target vector\n",
        "    X_train, X_test, y_train, y_test = train_test_split(X, y, random_state=956)\n",
        "    \n",
        "    # Building the model on the training set \n",
        "    model.fit(X_train, y_train)\n",
        "\n",
        "    # Predicting the outcome with the training set\n",
        "    y_train_pred = model.predict(X_train)\n",
        "\n",
        "    # Computing the accuracy of the prediction\n",
        "    acc_train = accuracy_score(y_train, y_train_pred)\n",
        "\n",
        "    # Predict the outcome with the validation set\n",
        "    y_test_pred = model.predict(X_test)\n",
        "    \n",
        "    # Computing the accuracy of the prediction\n",
        "    acc_test = accuracy_score(y_test, y_test_pred)\n",
        "\n",
        "    return (acc_train, acc_test)"
      ]
    },
    {
      "cell_type": "markdown",
      "metadata": {
        "id": "K7BwD1BghkXT"
      },
      "source": [
        "### 2.2 Load data\n",
        "\n",
        "Use the yellowbrick function `load_spam()`, load the spam data set into feature matrix `X` and target vector `y`.\n",
        "\n",
        "Print size and type of `X` and `y`.\n"
      ]
    },
    {
      "cell_type": "code",
      "execution_count": 24,
      "metadata": {
        "colab": {
          "base_uri": "https://localhost:8080/"
        },
        "id": "PWizoFIRhkXT",
        "outputId": "099cdcf5-39f4-4197-ed53-541dedc13791"
      },
      "outputs": [
        {
          "output_type": "stream",
          "name": "stdout",
          "text": [
            "Dimensions of X: (4600, 57)\n",
            "Type of X: \n",
            "word_freq_make                float64\n",
            "word_freq_address             float64\n",
            "word_freq_all                 float64\n",
            "word_freq_3d                  float64\n",
            "word_freq_our                 float64\n",
            "word_freq_over                float64\n",
            "word_freq_remove              float64\n",
            "word_freq_internet            float64\n",
            "word_freq_order               float64\n",
            "word_freq_mail                float64\n",
            "word_freq_receive             float64\n",
            "word_freq_will                float64\n",
            "word_freq_people              float64\n",
            "word_freq_report              float64\n",
            "word_freq_addresses           float64\n",
            "word_freq_free                float64\n",
            "word_freq_business            float64\n",
            "word_freq_email               float64\n",
            "word_freq_you                 float64\n",
            "word_freq_credit              float64\n",
            "word_freq_your                float64\n",
            "word_freq_font                float64\n",
            "word_freq_000                 float64\n",
            "word_freq_money               float64\n",
            "word_freq_hp                  float64\n",
            "word_freq_hpl                 float64\n",
            "word_freq_george              float64\n",
            "word_freq_650                 float64\n",
            "word_freq_lab                 float64\n",
            "word_freq_labs                float64\n",
            "word_freq_telnet              float64\n",
            "word_freq_857                 float64\n",
            "word_freq_data                float64\n",
            "word_freq_415                 float64\n",
            "word_freq_85                  float64\n",
            "word_freq_technology          float64\n",
            "word_freq_1999                float64\n",
            "word_freq_parts               float64\n",
            "word_freq_pm                  float64\n",
            "word_freq_direct              float64\n",
            "word_freq_cs                  float64\n",
            "word_freq_meeting             float64\n",
            "word_freq_original            float64\n",
            "word_freq_project             float64\n",
            "word_freq_re                  float64\n",
            "word_freq_edu                 float64\n",
            "word_freq_table               float64\n",
            "word_freq_conference          float64\n",
            "char_freq_;                   float64\n",
            "char_freq_(                   float64\n",
            "char_freq_[                   float64\n",
            "char_freq_!                   float64\n",
            "char_freq_$                   float64\n",
            "char_freq_#                   float64\n",
            "capital_run_length_average    float64\n",
            "capital_run_length_longest      int64\n",
            "capital_run_length_total        int64\n",
            "dtype: object\n",
            "\n",
            "Dimensions of y: (4600,)\n",
            "Type of y: int64\n"
          ]
        }
      ],
      "source": [
        "from yellowbrick.datasets.loaders import load_spam\n",
        "\n",
        "# loading in spam data set into feature matrix X and target vector y\n",
        "X, y = load_spam()\n",
        "\n",
        "# Printing size and type of X and y\n",
        "print(f\"Dimensions of X: {X.shape}\\nType of X: \\n{X.dtypes}\")\n",
        "print(f\"\\nDimensions of y: {y.shape}\\nType of y: {y.dtype}\")\n"
      ]
    },
    {
      "cell_type": "markdown",
      "metadata": {
        "id": "yS-6tGsthkXU"
      },
      "source": [
        "Using the sklearn function `train_test_split()` prepare a feature matrix `X_small` and target vector `y_small` that contain only **1%** of the rows. Use `random_state=174`.\n",
        "\n",
        "Print size and type of `X_small` and `y_small`."
      ]
    },
    {
      "cell_type": "code",
      "execution_count": 25,
      "metadata": {
        "colab": {
          "base_uri": "https://localhost:8080/"
        },
        "id": "NVQPFCuUhkXU",
        "outputId": "aba5ea44-f460-4c62-c455-50069e469a49"
      },
      "outputs": [
        {
          "output_type": "stream",
          "name": "stdout",
          "text": [
            "Dimensions of X_small: (46, 57)\n",
            "Type of X_small:\n",
            "word_freq_make                float64\n",
            "word_freq_address             float64\n",
            "word_freq_all                 float64\n",
            "word_freq_3d                  float64\n",
            "word_freq_our                 float64\n",
            "word_freq_over                float64\n",
            "word_freq_remove              float64\n",
            "word_freq_internet            float64\n",
            "word_freq_order               float64\n",
            "word_freq_mail                float64\n",
            "word_freq_receive             float64\n",
            "word_freq_will                float64\n",
            "word_freq_people              float64\n",
            "word_freq_report              float64\n",
            "word_freq_addresses           float64\n",
            "word_freq_free                float64\n",
            "word_freq_business            float64\n",
            "word_freq_email               float64\n",
            "word_freq_you                 float64\n",
            "word_freq_credit              float64\n",
            "word_freq_your                float64\n",
            "word_freq_font                float64\n",
            "word_freq_000                 float64\n",
            "word_freq_money               float64\n",
            "word_freq_hp                  float64\n",
            "word_freq_hpl                 float64\n",
            "word_freq_george              float64\n",
            "word_freq_650                 float64\n",
            "word_freq_lab                 float64\n",
            "word_freq_labs                float64\n",
            "word_freq_telnet              float64\n",
            "word_freq_857                 float64\n",
            "word_freq_data                float64\n",
            "word_freq_415                 float64\n",
            "word_freq_85                  float64\n",
            "word_freq_technology          float64\n",
            "word_freq_1999                float64\n",
            "word_freq_parts               float64\n",
            "word_freq_pm                  float64\n",
            "word_freq_direct              float64\n",
            "word_freq_cs                  float64\n",
            "word_freq_meeting             float64\n",
            "word_freq_original            float64\n",
            "word_freq_project             float64\n",
            "word_freq_re                  float64\n",
            "word_freq_edu                 float64\n",
            "word_freq_table               float64\n",
            "word_freq_conference          float64\n",
            "char_freq_;                   float64\n",
            "char_freq_(                   float64\n",
            "char_freq_[                   float64\n",
            "char_freq_!                   float64\n",
            "char_freq_$                   float64\n",
            "char_freq_#                   float64\n",
            "capital_run_length_average    float64\n",
            "capital_run_length_longest      int64\n",
            "capital_run_length_total        int64\n",
            "dtype: object\n",
            "\n",
            "Dimensions of y_small: (46,)\n",
            "Type of y_small: int64\n"
          ]
        }
      ],
      "source": [
        "# Creating a feature matrix that contain only 1% of the rows\n",
        "X_small, X_test, y_small, y_test = train_test_split(X, y, random_state=174, train_size = 0.01)\n",
        "\n",
        "# Printing the size and type of X_small and y_small\n",
        "print(f\"Dimensions of X_small: {X_small.shape}\\nType of X_small:\\n{X_small.dtypes}\")\n",
        "print(f\"\\nDimensions of y_small: {y_small.shape}\\nType of y_small: {y_small.dtype}\")\n"
      ]
    },
    {
      "cell_type": "markdown",
      "metadata": {
        "id": "e1n_zAArhkXU"
      },
      "source": [
        "### 2.3 Train and evaluate models\n",
        "\n",
        "1. Import `LogisticRegression` from sklearn\n",
        "2. Instantiate model `LogisticRegression(max_iter=2000)`.\n",
        "3. Create a pandas DataFrame `results` with columns: Data size, training accuracy, validation accuracy\n",
        "4. Call your convenience function `get_classifier_accuracy()` using \n",
        "    - `X` and `y`\n",
        "    - Only first two columns of `X` and `y`\n",
        "    - `X_small` and `y_small`\n",
        "5. Add the data size, training and validation accuracy for each call to the `results` DataFrame\n",
        "6. Print `results`"
      ]
    },
    {
      "cell_type": "code",
      "execution_count": 26,
      "metadata": {
        "colab": {
          "base_uri": "https://localhost:8080/",
          "height": 179
        },
        "id": "ygghypEyhkXV",
        "outputId": "e239da45-b2b7-459a-976d-1dc386f71d5d"
      },
      "outputs": [
        {
          "output_type": "stream",
          "name": "stdout",
          "text": [
            "\n",
            "Results DataFrame:\n"
          ]
        },
        {
          "output_type": "execute_result",
          "data": {
            "text/plain": [
              "                               Data size  Training accuracy  \\\n",
              "X and y                       (4600, 57)           0.934493   \n",
              "First two columns of X and y   (4600, 2)           0.608986   \n",
              "X_small and y_small             (46, 57)           0.941176   \n",
              "\n",
              "                              Validation accuracy  \n",
              "X and y                                  0.918261  \n",
              "First two columns of X and y             0.613043  \n",
              "X_small and y_small                      0.750000  "
            ],
            "text/html": [
              "\n",
              "  <div id=\"df-cbb6c13f-58ff-430e-a3ed-b0f518fa9c01\">\n",
              "    <div class=\"colab-df-container\">\n",
              "      <div>\n",
              "<style scoped>\n",
              "    .dataframe tbody tr th:only-of-type {\n",
              "        vertical-align: middle;\n",
              "    }\n",
              "\n",
              "    .dataframe tbody tr th {\n",
              "        vertical-align: top;\n",
              "    }\n",
              "\n",
              "    .dataframe thead th {\n",
              "        text-align: right;\n",
              "    }\n",
              "</style>\n",
              "<table border=\"1\" class=\"dataframe\">\n",
              "  <thead>\n",
              "    <tr style=\"text-align: right;\">\n",
              "      <th></th>\n",
              "      <th>Data size</th>\n",
              "      <th>Training accuracy</th>\n",
              "      <th>Validation accuracy</th>\n",
              "    </tr>\n",
              "  </thead>\n",
              "  <tbody>\n",
              "    <tr>\n",
              "      <th>X and y</th>\n",
              "      <td>(4600, 57)</td>\n",
              "      <td>0.934493</td>\n",
              "      <td>0.918261</td>\n",
              "    </tr>\n",
              "    <tr>\n",
              "      <th>First two columns of X and y</th>\n",
              "      <td>(4600, 2)</td>\n",
              "      <td>0.608986</td>\n",
              "      <td>0.613043</td>\n",
              "    </tr>\n",
              "    <tr>\n",
              "      <th>X_small and y_small</th>\n",
              "      <td>(46, 57)</td>\n",
              "      <td>0.941176</td>\n",
              "      <td>0.750000</td>\n",
              "    </tr>\n",
              "  </tbody>\n",
              "</table>\n",
              "</div>\n",
              "      <button class=\"colab-df-convert\" onclick=\"convertToInteractive('df-cbb6c13f-58ff-430e-a3ed-b0f518fa9c01')\"\n",
              "              title=\"Convert this dataframe to an interactive table.\"\n",
              "              style=\"display:none;\">\n",
              "        \n",
              "  <svg xmlns=\"http://www.w3.org/2000/svg\" height=\"24px\"viewBox=\"0 0 24 24\"\n",
              "       width=\"24px\">\n",
              "    <path d=\"M0 0h24v24H0V0z\" fill=\"none\"/>\n",
              "    <path d=\"M18.56 5.44l.94 2.06.94-2.06 2.06-.94-2.06-.94-.94-2.06-.94 2.06-2.06.94zm-11 1L8.5 8.5l.94-2.06 2.06-.94-2.06-.94L8.5 2.5l-.94 2.06-2.06.94zm10 10l.94 2.06.94-2.06 2.06-.94-2.06-.94-.94-2.06-.94 2.06-2.06.94z\"/><path d=\"M17.41 7.96l-1.37-1.37c-.4-.4-.92-.59-1.43-.59-.52 0-1.04.2-1.43.59L10.3 9.45l-7.72 7.72c-.78.78-.78 2.05 0 2.83L4 21.41c.39.39.9.59 1.41.59.51 0 1.02-.2 1.41-.59l7.78-7.78 2.81-2.81c.8-.78.8-2.07 0-2.86zM5.41 20L4 18.59l7.72-7.72 1.47 1.35L5.41 20z\"/>\n",
              "  </svg>\n",
              "      </button>\n",
              "      \n",
              "  <style>\n",
              "    .colab-df-container {\n",
              "      display:flex;\n",
              "      flex-wrap:wrap;\n",
              "      gap: 12px;\n",
              "    }\n",
              "\n",
              "    .colab-df-convert {\n",
              "      background-color: #E8F0FE;\n",
              "      border: none;\n",
              "      border-radius: 50%;\n",
              "      cursor: pointer;\n",
              "      display: none;\n",
              "      fill: #1967D2;\n",
              "      height: 32px;\n",
              "      padding: 0 0 0 0;\n",
              "      width: 32px;\n",
              "    }\n",
              "\n",
              "    .colab-df-convert:hover {\n",
              "      background-color: #E2EBFA;\n",
              "      box-shadow: 0px 1px 2px rgba(60, 64, 67, 0.3), 0px 1px 3px 1px rgba(60, 64, 67, 0.15);\n",
              "      fill: #174EA6;\n",
              "    }\n",
              "\n",
              "    [theme=dark] .colab-df-convert {\n",
              "      background-color: #3B4455;\n",
              "      fill: #D2E3FC;\n",
              "    }\n",
              "\n",
              "    [theme=dark] .colab-df-convert:hover {\n",
              "      background-color: #434B5C;\n",
              "      box-shadow: 0px 1px 3px 1px rgba(0, 0, 0, 0.15);\n",
              "      filter: drop-shadow(0px 1px 2px rgba(0, 0, 0, 0.3));\n",
              "      fill: #FFFFFF;\n",
              "    }\n",
              "  </style>\n",
              "\n",
              "      <script>\n",
              "        const buttonEl =\n",
              "          document.querySelector('#df-cbb6c13f-58ff-430e-a3ed-b0f518fa9c01 button.colab-df-convert');\n",
              "        buttonEl.style.display =\n",
              "          google.colab.kernel.accessAllowed ? 'block' : 'none';\n",
              "\n",
              "        async function convertToInteractive(key) {\n",
              "          const element = document.querySelector('#df-cbb6c13f-58ff-430e-a3ed-b0f518fa9c01');\n",
              "          const dataTable =\n",
              "            await google.colab.kernel.invokeFunction('convertToInteractive',\n",
              "                                                     [key], {});\n",
              "          if (!dataTable) return;\n",
              "\n",
              "          const docLinkHtml = 'Like what you see? Visit the ' +\n",
              "            '<a target=\"_blank\" href=https://colab.research.google.com/notebooks/data_table.ipynb>data table notebook</a>'\n",
              "            + ' to learn more about interactive tables.';\n",
              "          element.innerHTML = '';\n",
              "          dataTable['output_type'] = 'display_data';\n",
              "          await google.colab.output.renderOutput(dataTable, element);\n",
              "          const docLink = document.createElement('div');\n",
              "          docLink.innerHTML = docLinkHtml;\n",
              "          element.appendChild(docLink);\n",
              "        }\n",
              "      </script>\n",
              "    </div>\n",
              "  </div>\n",
              "  "
            ]
          },
          "metadata": {},
          "execution_count": 26
        }
      ],
      "source": [
        "from sklearn.linear_model import LogisticRegression\n",
        "\n",
        "# Instantiating model Logistic Regression\n",
        "model = LogisticRegression(max_iter=2000)\n",
        "\n",
        "# Creating a Pandas DataFrame\n",
        "results = pd.DataFrame(columns=['Data size', 'Training accuracy', 'Validation accuracy'])\n",
        "    \n",
        "# Calculate the accuracy using X and y\n",
        "train_acc, val_acc = get_classifier_accuracy(model, X, y)\n",
        "results = results.append({'Data size': X.shape, \n",
        "                          'Training accuracy': train_acc, \n",
        "                          'Validation accuracy': val_acc}, ignore_index=True)\n",
        "\n",
        "# Calculate the accuracy using only the first 2 features of X and y\n",
        "train_acc, val_acc = get_classifier_accuracy(model, X.iloc[:,:2], y)\n",
        "results = results.append({'Data size': X.iloc[:, :2].shape, \n",
        "                          'Training accuracy': train_acc, \n",
        "                          'Validation accuracy': val_acc}, ignore_index=True)\n",
        "\n",
        "\n",
        "# Calculate the accuracy using X_small and y_small\n",
        "train_acc, val_acc = get_classifier_accuracy(model, X_small, y_small)\n",
        "results = results.append({'Data size': X_small.shape, \n",
        "                          'Training accuracy': train_acc, \n",
        "                          'Validation accuracy': val_acc}, ignore_index=True)\n",
        "\n",
        "results.index = ['X and y', 'First two columns of X and y', 'X_small and y_small']\n",
        "\n",
        "print(\"\\nResults DataFrame:\")\n",
        "results"
      ]
    },
    {
      "cell_type": "markdown",
      "metadata": {
        "id": "HM-am1NWhkXV"
      },
      "source": [
        "### 2.4 Questions\n",
        "1. What is the validation accuracy using all data? What is the difference between training and validation accuracy?\n",
        "1. How does the validation accuracy and difference between training and validation change when only two columns are used? Provide values.\n",
        "1. How does the validation accuracy and difference between training and validation change when only 1% of the rows are used? Provide values.\n",
        "\n",
        "*YOUR ANSWERS HERE*\n",
        "1. The validation accuracy with the all data is 0.918261. The training accuracy of a superseded learning model is a measure of how well it performs with known testing data, while the validation accuracy measures how well it performs with the new data. For example, a model with a validation accuracy of 97% means that you can expect your model to predict with 97% accuracy on new unseen data.\n",
        "2. When only two columns are used, both training and validation accuracy decrease significantly. Where the training accuracy is equal to 0.60899 and the validation accuracy is equal to 0.61304. Model complexity relates to the variation of inputs in the training dataset, so having fewer columns of data for the model to train on will reduce its accuracy, a phenomenon known as underfitting. Furthermore, the validation score is higher than the training score, indicating extreme error in the results.\n",
        "3. The training accuracy increases to 0.94118, while the validation accuracy decreases to 0.75000. The low number of data points used to train the data contributes to the variance in accuracy. The lack of enough variety in a small data set causes overfitting since it is impossible to build a complex model that achieves high accuracy for prediction with a small data set.\n",
        "\n"
      ]
    },
    {
      "cell_type": "markdown",
      "metadata": {
        "id": "Wy5tHd6KhkXV"
      },
      "source": [
        "## 3. Regression\n",
        "\n",
        "Using yellowbrick energy - regression  \n",
        "https://www.scikit-yb.org/en/latest/api/datasets/energy.html\n",
        "\n",
        "The goal is to investigate `LinearRegression()` and effects of reducing the number of features and number of samples on regression performance."
      ]
    },
    {
      "cell_type": "markdown",
      "metadata": {
        "id": "b225bkgOhkXV"
      },
      "source": [
        "### 3.1 Implement convenience function"
      ]
    },
    {
      "cell_type": "code",
      "execution_count": 27,
      "metadata": {
        "id": "xFkC1DDihkXW"
      },
      "outputs": [],
      "source": [
        "from sklearn.metrics import mean_squared_error\n",
        "from sklearn.model_selection import train_test_split\n",
        "\n",
        "def get_regressor_mse(model, X, y):\n",
        "    '''Calculate train and validation mean-squared error (mse) of regressor (model)\n",
        "        \n",
        "        Splits feature matrix X and target vector y \n",
        "        with sklearn train_test_split() and random_state=956.\n",
        "        \n",
        "        model (sklearn regressor): Regressor to train and evaluate\n",
        "        X (numpy.array or pandas.DataFrame): Feature matrix\n",
        "        y (numpy.array or pandas.Series): Target vector\n",
        "        \n",
        "        returns: training mse, validation mse\n",
        "    \n",
        "    '''\n",
        "\n",
        "    # Partitioning the data into training and testing\n",
        "    X_train, X_test, y_train, y_test = train_test_split(X, y, random_state=956)\n",
        "\n",
        "    # Fitting the training model\n",
        "    model.fit(X_train, y_train)\n",
        "\n",
        "    # Predicting the outcome with the training data\n",
        "    y_train_pred = model.predict(X_train)\n",
        "\n",
        "    # Calculating the mse of the training data\n",
        "    train_mse = mean_squared_error(y_train, y_train_pred)\n",
        "\n",
        "    # Predicting the outcome with the validation data\n",
        "    y_test_pred = model.predict(X_test)\n",
        "\n",
        "    # Calculating the mse of the validation data\n",
        "    val_mse = mean_squared_error(y_test, y_test_pred)\n",
        "\n",
        "    return (train_mse, val_mse)\n"
      ]
    },
    {
      "cell_type": "markdown",
      "metadata": {
        "id": "U_rnIH3khkXW"
      },
      "source": [
        "### 3.2 Load data\n",
        "\n",
        "Use the yellowbrick function `load_energy()` load the energy data set into feature matrix `X` and target vector `y`.\n",
        "\n",
        "Print dimensions and type of `X` and `y`."
      ]
    },
    {
      "cell_type": "code",
      "execution_count": 28,
      "metadata": {
        "colab": {
          "base_uri": "https://localhost:8080/"
        },
        "id": "65YqsSa_hkXW",
        "outputId": "668e4b79-77f5-4314-8e06-e5b0d110709a"
      },
      "outputs": [
        {
          "output_type": "stream",
          "name": "stdout",
          "text": [
            "Dimensions of X: (768, 8)\n",
            "Type of X:\n",
            "relative compactness         float64\n",
            "surface area                 float64\n",
            "wall area                    float64\n",
            "roof area                    float64\n",
            "overall height               float64\n",
            "orientation                    int64\n",
            "glazing area                 float64\n",
            "glazing area distribution      int64\n",
            "dtype: object\n",
            "\n",
            "Dimensions of y: (768,)\n",
            "Type of y: float64\n"
          ]
        }
      ],
      "source": [
        "from yellowbrick.datasets import load_energy\n",
        "\n",
        "# Loading the energy data set\n",
        "X, y = load_energy()\n",
        "\n",
        "print(f\"Dimensions of X: {X.shape}\\nType of X:\\n{X.dtypes}\")\n",
        "print(f\"\\nDimensions of y: {y.shape}\\nType of y: {y.dtype}\")\n"
      ]
    },
    {
      "cell_type": "markdown",
      "metadata": {
        "id": "OOZVndxahkXW"
      },
      "source": [
        "Using the sklearn function `train_test_split()` prepare a feature matrix `X_small` and target vector `y_small` that contain only **1%** of the rows. Use `random_state=174`.\n",
        "\n",
        "Print size and type of `X_small` and `y_small`."
      ]
    },
    {
      "cell_type": "code",
      "execution_count": 29,
      "metadata": {
        "id": "5q_mJlN3hkXW",
        "colab": {
          "base_uri": "https://localhost:8080/"
        },
        "outputId": "9d80bf68-3c2c-4bec-8ad9-b0fb6c1b3500"
      },
      "outputs": [
        {
          "output_type": "stream",
          "name": "stdout",
          "text": [
            "Dimensions of X_small: (7, 8)\n",
            "Type of X_small:\n",
            "relative compactness         float64\n",
            "surface area                 float64\n",
            "wall area                    float64\n",
            "roof area                    float64\n",
            "overall height               float64\n",
            "orientation                    int64\n",
            "glazing area                 float64\n",
            "glazing area distribution      int64\n",
            "dtype: object\n",
            "\n",
            "Dimensions of y_small: (7,)\n",
            "Type of y_small: float64\n"
          ]
        }
      ],
      "source": [
        "# Creating a feature matrix that contain only 1% of the rows\n",
        "X_small, X_test, y_small, y_test = train_test_split(X, y, random_state=174, train_size = 0.01)\n",
        "\n",
        "# Printing the size and type of X_small and y_small\n",
        "print(f\"Dimensions of X_small: {X_small.shape}\\nType of X_small:\\n{X_small.dtypes}\")\n",
        "print(f\"\\nDimensions of y_small: {y_small.shape}\\nType of y_small: {y_small.dtype}\")\n"
      ]
    },
    {
      "cell_type": "markdown",
      "metadata": {
        "id": "Pln8lwBvhkXW"
      },
      "source": [
        "### 3.3 Train and evaluate models\n",
        "\n",
        "1. Import `LinearRegression` from sklearn\n",
        "2. Instantiate model `LinearRegression()`.\n",
        "3. Create a pandas DataFrame `results` with columns: Data size, training MSE, validation MSE\n",
        "4. Call your convenience function `get_regressor_mse()` using \n",
        "    - `X` and `y`\n",
        "    - Only first two columns of `X` and `y`\n",
        "    - `X_small` and `y_small`\n",
        "5. Add the data size, training and validation MSE for each call to the `results` DataFrame\n",
        "6. Print `results`"
      ]
    },
    {
      "cell_type": "code",
      "execution_count": 30,
      "metadata": {
        "id": "caedsKrLhkXX",
        "colab": {
          "base_uri": "https://localhost:8080/",
          "height": 179
        },
        "outputId": "45c764a9-bc83-4f26-95ac-f303662d7378"
      },
      "outputs": [
        {
          "output_type": "stream",
          "name": "stdout",
          "text": [
            "\n",
            "Results DataFrame:\n"
          ]
        },
        {
          "output_type": "execute_result",
          "data": {
            "text/plain": [
              "                             Data size  Training MSE  Validation MSE\n",
              "X and y                       (768, 8)  8.012691e+00       10.366349\n",
              "First two columns of X and y  (768, 2)  5.360043e+01       46.410426\n",
              "X_small and y_small             (7, 8)  2.145702e-29       69.977449"
            ],
            "text/html": [
              "\n",
              "  <div id=\"df-73db0bf9-263b-4a2f-9d1f-6d42994bf07d\">\n",
              "    <div class=\"colab-df-container\">\n",
              "      <div>\n",
              "<style scoped>\n",
              "    .dataframe tbody tr th:only-of-type {\n",
              "        vertical-align: middle;\n",
              "    }\n",
              "\n",
              "    .dataframe tbody tr th {\n",
              "        vertical-align: top;\n",
              "    }\n",
              "\n",
              "    .dataframe thead th {\n",
              "        text-align: right;\n",
              "    }\n",
              "</style>\n",
              "<table border=\"1\" class=\"dataframe\">\n",
              "  <thead>\n",
              "    <tr style=\"text-align: right;\">\n",
              "      <th></th>\n",
              "      <th>Data size</th>\n",
              "      <th>Training MSE</th>\n",
              "      <th>Validation MSE</th>\n",
              "    </tr>\n",
              "  </thead>\n",
              "  <tbody>\n",
              "    <tr>\n",
              "      <th>X and y</th>\n",
              "      <td>(768, 8)</td>\n",
              "      <td>8.012691e+00</td>\n",
              "      <td>10.366349</td>\n",
              "    </tr>\n",
              "    <tr>\n",
              "      <th>First two columns of X and y</th>\n",
              "      <td>(768, 2)</td>\n",
              "      <td>5.360043e+01</td>\n",
              "      <td>46.410426</td>\n",
              "    </tr>\n",
              "    <tr>\n",
              "      <th>X_small and y_small</th>\n",
              "      <td>(7, 8)</td>\n",
              "      <td>2.145702e-29</td>\n",
              "      <td>69.977449</td>\n",
              "    </tr>\n",
              "  </tbody>\n",
              "</table>\n",
              "</div>\n",
              "      <button class=\"colab-df-convert\" onclick=\"convertToInteractive('df-73db0bf9-263b-4a2f-9d1f-6d42994bf07d')\"\n",
              "              title=\"Convert this dataframe to an interactive table.\"\n",
              "              style=\"display:none;\">\n",
              "        \n",
              "  <svg xmlns=\"http://www.w3.org/2000/svg\" height=\"24px\"viewBox=\"0 0 24 24\"\n",
              "       width=\"24px\">\n",
              "    <path d=\"M0 0h24v24H0V0z\" fill=\"none\"/>\n",
              "    <path d=\"M18.56 5.44l.94 2.06.94-2.06 2.06-.94-2.06-.94-.94-2.06-.94 2.06-2.06.94zm-11 1L8.5 8.5l.94-2.06 2.06-.94-2.06-.94L8.5 2.5l-.94 2.06-2.06.94zm10 10l.94 2.06.94-2.06 2.06-.94-2.06-.94-.94-2.06-.94 2.06-2.06.94z\"/><path d=\"M17.41 7.96l-1.37-1.37c-.4-.4-.92-.59-1.43-.59-.52 0-1.04.2-1.43.59L10.3 9.45l-7.72 7.72c-.78.78-.78 2.05 0 2.83L4 21.41c.39.39.9.59 1.41.59.51 0 1.02-.2 1.41-.59l7.78-7.78 2.81-2.81c.8-.78.8-2.07 0-2.86zM5.41 20L4 18.59l7.72-7.72 1.47 1.35L5.41 20z\"/>\n",
              "  </svg>\n",
              "      </button>\n",
              "      \n",
              "  <style>\n",
              "    .colab-df-container {\n",
              "      display:flex;\n",
              "      flex-wrap:wrap;\n",
              "      gap: 12px;\n",
              "    }\n",
              "\n",
              "    .colab-df-convert {\n",
              "      background-color: #E8F0FE;\n",
              "      border: none;\n",
              "      border-radius: 50%;\n",
              "      cursor: pointer;\n",
              "      display: none;\n",
              "      fill: #1967D2;\n",
              "      height: 32px;\n",
              "      padding: 0 0 0 0;\n",
              "      width: 32px;\n",
              "    }\n",
              "\n",
              "    .colab-df-convert:hover {\n",
              "      background-color: #E2EBFA;\n",
              "      box-shadow: 0px 1px 2px rgba(60, 64, 67, 0.3), 0px 1px 3px 1px rgba(60, 64, 67, 0.15);\n",
              "      fill: #174EA6;\n",
              "    }\n",
              "\n",
              "    [theme=dark] .colab-df-convert {\n",
              "      background-color: #3B4455;\n",
              "      fill: #D2E3FC;\n",
              "    }\n",
              "\n",
              "    [theme=dark] .colab-df-convert:hover {\n",
              "      background-color: #434B5C;\n",
              "      box-shadow: 0px 1px 3px 1px rgba(0, 0, 0, 0.15);\n",
              "      filter: drop-shadow(0px 1px 2px rgba(0, 0, 0, 0.3));\n",
              "      fill: #FFFFFF;\n",
              "    }\n",
              "  </style>\n",
              "\n",
              "      <script>\n",
              "        const buttonEl =\n",
              "          document.querySelector('#df-73db0bf9-263b-4a2f-9d1f-6d42994bf07d button.colab-df-convert');\n",
              "        buttonEl.style.display =\n",
              "          google.colab.kernel.accessAllowed ? 'block' : 'none';\n",
              "\n",
              "        async function convertToInteractive(key) {\n",
              "          const element = document.querySelector('#df-73db0bf9-263b-4a2f-9d1f-6d42994bf07d');\n",
              "          const dataTable =\n",
              "            await google.colab.kernel.invokeFunction('convertToInteractive',\n",
              "                                                     [key], {});\n",
              "          if (!dataTable) return;\n",
              "\n",
              "          const docLinkHtml = 'Like what you see? Visit the ' +\n",
              "            '<a target=\"_blank\" href=https://colab.research.google.com/notebooks/data_table.ipynb>data table notebook</a>'\n",
              "            + ' to learn more about interactive tables.';\n",
              "          element.innerHTML = '';\n",
              "          dataTable['output_type'] = 'display_data';\n",
              "          await google.colab.output.renderOutput(dataTable, element);\n",
              "          const docLink = document.createElement('div');\n",
              "          docLink.innerHTML = docLinkHtml;\n",
              "          element.appendChild(docLink);\n",
              "        }\n",
              "      </script>\n",
              "    </div>\n",
              "  </div>\n",
              "  "
            ]
          },
          "metadata": {},
          "execution_count": 30
        }
      ],
      "source": [
        "from sklearn.linear_model import LinearRegression\n",
        "\n",
        "# Instantiating model Linear Regression\n",
        "model = LinearRegression()\n",
        "\n",
        "# Creating a Pandas DataFrame\n",
        "results = pd.DataFrame(columns=['Data size', 'Training MSE', 'Validation MSE'])\n",
        "    \n",
        "# Calculate the mean squared error using X and y\n",
        "train_acc, val_acc = get_regressor_mse(model, X, y)\n",
        "results = results.append({'Data size': X.shape, \n",
        "                          'Training MSE': train_acc, \n",
        "                          'Validation MSE': val_acc}, ignore_index=True)\n",
        "\n",
        "# Calculate the mean squared error using only the first 2 features of X and y\n",
        "train_acc, val_acc = get_regressor_mse(model, X.iloc[:,:2], y)\n",
        "results = results.append({'Data size': X.iloc[:, :2].shape, \n",
        "                          'Training MSE': train_acc, \n",
        "                          'Validation MSE': val_acc}, ignore_index=True)\n",
        "\n",
        "\n",
        "# Calculate the mean squared error using X_small and y_small\n",
        "train_acc, val_acc = get_regressor_mse(model, X_small, y_small)\n",
        "results = results.append({'Data size': X_small.shape, \n",
        "                          'Training MSE': train_acc, \n",
        "                          'Validation MSE': val_acc}, ignore_index=True)\n",
        "\n",
        "results.index = ['X and y', 'First two columns of X and y', 'X_small and y_small']\n",
        "\n",
        "print(\"\\nResults DataFrame:\")\n",
        "results"
      ]
    },
    {
      "cell_type": "markdown",
      "metadata": {
        "id": "Wfdhk9B5hkXX"
      },
      "source": [
        "### 3.4 Questions\n",
        "1. What is the validation MSE using all data? What is the difference between training and validation MSE?\n",
        "1. How does the validation MSE and difference between training and validation change when only two columns are used? Provide values.\n",
        "1. How does the validation MSE and difference between training and validation change when only 1% of the rows are used? Provide values.\n",
        "\n",
        "*YOUR ANSWERS HERE*\n",
        "1. The validation MSE with all the data is 10.366349. The training MSE is the MSE of the model when it is trained on the training data. It measures the error between the predicted outputs and the actual outputs of the model for the training data. The goal is to have a low training MSE, indicating that the model has learned the relationships in the training data well. However, the validation MSE is the MSE of the model when it is evaluated on the validation data. It measures the error between the predicted outputs and the actual outputs of the model for the validation data. The validation data is a separate set of data that the model has not seen during training, and is used to evaluate the model's ability to generalize to new, unseen data.\n",
        "\n",
        "2. When only the first 2 columns are used, the training MSE and the validation MSE both increase. The training MSE increases to the value of 5.360043e+01, while the validation MSE increases to the value of 46.410426. Since both the training MSE and validation MSE have increased to higher values, it may indicate underfitting, meaning that the model is not complex enough to learn the relationships in the data.\n",
        "\n",
        "3. When only 1% of the rows are used, the training MSE heavily decreases the the value of 2.145702e-29, while the validation MSE increases to the value of 69.977449. Since the training MSE is low and the validation MSE is high, it may indicate overfitting. This means that the model is too closely fitted to the training data and is not able to generalize well to new data.\n",
        "\n",
        "\n",
        "\n"
      ]
    },
    {
      "cell_type": "markdown",
      "metadata": {
        "id": "ExfUaXh9hkXX"
      },
      "source": [
        "## 4. Observations/Interpretation\n",
        "\n",
        "Describe any pattern you see in the results. Relate your findings to what we discussed during lectures. Include data to justify your findings.\n",
        "\n",
        "\n",
        "*ADD YOUR FINDINGS HERE*\n",
        "\n",
        "When the model employs all available data for training, both the training and validation accuracy are high with minimal variance, leading to low mean squared errors; as justified in the results dataframes above. By contrast, using only the first two columns of data will result in a decrease in training and validation accuracy, and a rise in mean squared errors, resulting in an underfitting model pattern with a high bias. Finally, when only a small fraction of the data (1%) is used for training, the training accuracy increases and the validation accuracy decreases, reflecting a decrease in training MSE and an increase in validation MSE. This is a clear pattern of overfitting with high variance, as the model becomes too closely tied to the training data and struggles to generalize to new data due to the lack of samples to train the model effectively (not complex enough).\n"
      ]
    },
    {
      "cell_type": "markdown",
      "metadata": {
        "id": "cn60V5N5hkXX"
      },
      "source": [
        "## 5. Reflection\n",
        "Include a sentence or two about:\n",
        "- what you liked or disliked,\n",
        "- found interesting, confusing, challangeing, motivating\n",
        "while working on this assignment.\n",
        "\n",
        "\n",
        "*ADD YOUR THOUGHTS HERE*\n",
        "\n",
        "1. I liked being able to finally build and create models of my own using scikit-learn and seeing how the model behaves with a different variety of training data. This exercise was able to help me dive deeper into gaining knowledge on machine learning which I also thoroughly enjoyed.\n",
        "\n",
        "2. Machine learning can be applied to a variety of tasks, such as categorizing items into different classes or estimating numerical values, through classification and regression models. What makes this area of study interesting is the range of techniques and models available to choose from, each with their own strengths and weaknesses, which was confusing to me at first when I had no prior experiences with these models. This subject can also be challenging because it involves many mathematical concepts and requires a good understanding of statistics and linear algebra. However, once these concepts are understood, the ability to build models that can make predictions accurately is a very motivating experience."
      ]
    },
    {
      "cell_type": "code",
      "source": [],
      "metadata": {
        "id": "K2F1clYPwDAy"
      },
      "execution_count": 30,
      "outputs": []
    }
  ],
  "metadata": {
    "kernelspec": {
      "display_name": "Python 3 (ipykernel)",
      "language": "python",
      "name": "python3"
    },
    "language_info": {
      "codemirror_mode": {
        "name": "ipython",
        "version": 3
      },
      "file_extension": ".py",
      "mimetype": "text/x-python",
      "name": "python",
      "nbconvert_exporter": "python",
      "pygments_lexer": "ipython3",
      "version": "3.9.13"
    },
    "colab": {
      "provenance": [],
      "toc_visible": true
    }
  },
  "nbformat": 4,
  "nbformat_minor": 0
}